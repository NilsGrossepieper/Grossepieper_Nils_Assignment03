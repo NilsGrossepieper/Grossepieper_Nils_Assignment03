{
 "cells": [
  {
   "cell_type": "markdown",
   "id": "ae631c52",
   "metadata": {},
   "source": [
    "\n",
    "---\n",
    "\n",
    "### Repeated operations\n",
    "\n",
    "\n",
    "<div class=\"alert alert-block alert-info\">\n",
    "    \n",
    "1. Create two vectors called ``vec1`` and ``vec2`` that each contain 50,000 random draws from the integer numbers between 1 and 100. Make sure the \"random\" operation produces the same results when the code is re-evaluated.\n",
    "</div>"
   ]
  },
  {
   "cell_type": "code",
   "execution_count": 9,
   "id": "c5c02862",
   "metadata": {},
   "outputs": [],
   "source": [
    "# Load all important packages for this assignment:\n",
    "import pandas as pd\n",
    "import numpy as np\n",
    "import time"
   ]
  },
  {
   "cell_type": "code",
   "execution_count": 10,
   "id": "9526c4bd",
   "metadata": {},
   "outputs": [
    {
     "name": "stdout",
     "output_type": "stream",
     "text": [
      "[67 93 99 18 84 58 87 98 97]\n",
      "[87 40 51 78 16 52 74 78 40]\n"
     ]
    }
   ],
   "source": [
    "# I use set.seed() to produce the same results when we rerun the code:\n",
    "np.random.seed(123)\n",
    "\n",
    "# Now I create two vectors with each containing of 50,000 random integers from\n",
    "# a range between 1 and 100\n",
    "vec1 = np.random.randint(1,100, size = 50000)\n",
    "vec2 = np.random.randint(1,100, size = 50000)\n",
    "\n",
    "# The vectors look like this:\n",
    "print(vec1[0:9])\n",
    "print(vec2[0:9])"
   ]
  },
  {
   "cell_type": "markdown",
   "id": "bfdd31d5",
   "metadata": {},
   "source": [
    "Consider the following ``for`` loop in R that subtracts the values of ``vec1`` and ``vec2`` from each other element-wise, squares the differences, and then takes the square root. The results are stored in the vector ``absoluteDifferences``.\n",
    "\n",
    "```{r}\n",
    "# Initiate empty object to store maximum values per row:\n",
    "absoluteDifferences <- NULL\n",
    "\n",
    "# Iterate through rows, find absolute difference, and append the value to the \n",
    "# object 'absoluteDifferences':\n",
    "for (i in 1:length(vec1)){\n",
    "  absoluteDifferences <- c(absoluteDifferences, sqrt((vec1[i] - vec2[i])^2))\n",
    "}\n",
    "```\n",
    "\n",
    "This operation is not coded efficiently regarding several aspects.\n",
    "\n",
    "\n",
    "<div class=\"alert alert-block alert-info\">\n",
    "    \n",
    "3. Try and find one solution in Python that speeds up the operation. Explain the intuition behind this solution and why it leads to an efficiency gain. Track speed and compare with your timings from task 2 in R!\n",
    "</div>"
   ]
  },
  {
   "cell_type": "code",
   "execution_count": 16,
   "id": "b72fe560",
   "metadata": {},
   "outputs": [
    {
     "name": "stdout",
     "output_type": "stream",
     "text": [
      "0.09097\n",
      "0.001\n"
     ]
    }
   ],
   "source": [
    "# I first track the time of the loop operation, to show how slow loop operators\n",
    "# compute tasks compared to using an apply function or vectorizing functions.\n",
    "\n",
    "# Initiate empty object to store maximum values per row:\n",
    "absoluteDifferences = [None] * len(vec1)\n",
    "\n",
    "start_time1 = time.time()\n",
    "\n",
    "# Iterate through rows, find absolute difference, and append the value to the\n",
    "# object 'absoluteDifferences':\n",
    "\n",
    "for i in range(len(vec1)):\n",
    "    absoluteDifferences[i] = np.sqrt((vec1[i] - vec2[i])**2) \n",
    "\n",
    "print(round(time.time() - start_time1, 5))\n",
    "\n",
    "\n",
    "# Optimization approach using vectorized functions:\n",
    "\n",
    "start_time2 = time.time()\n",
    "\n",
    "vec_abs_diff = np.sqrt((vec1 - vec2)**2)\n",
    "\n",
    "print(round(time.time() - start_time2, 5))\n",
    "\n",
    "\n",
    "# Vectorized functions have the advantage, that Python does not have to figure out\n",
    "# the data type for each single element of the vectors. In the loop approach Python\n",
    "# has to figure out after each repetition which type the certain element of the ith\n",
    "# run has. On the other side for the vectorized approach Python knows that a vector\n",
    "# element always has the same data type and therefore a lot of proceeding is saved\n",
    "# in a vectorized approach.\n",
    "\n",
    "# Compared to R you can see no real time differences between the two vectorized\n",
    "# approaches. On the other side you can see a time advantage for Python for the\n",
    "# loop approach. It seems that Python can operate loops faster than R"
   ]
  },
  {
   "cell_type": "markdown",
   "id": "605a83d3",
   "metadata": {},
   "source": [
    "---\n",
    "\n",
    "# SQL wrapper functions in Python\n",
    "\n",
    "Remember that the `DBI` package has the two convenient functions `dbListTables()` and `dbListFields()` to list all tables of a database and to list all fields in a table, respectively?\n",
    "\n",
    "In the next two tasks, you have to create corresponding functions in Python. To make your life easier, assume that you only want to connect to MySQL databases. Further, assume that all databases you might want to connect to have as database names only word characters (equivalent to [a-zA-Z0-9_]). \n",
    "\n",
    "\n",
    "<div class=\"alert alert-block alert-info\">\n",
    "    \n",
    "4. Create the function `dbListTables()`. The function should take only a connection object (as created by {sqlalchemy}'s `create_engine` function) as input. The function should then return all tables that are part of the connected database as a *list of strings*. Within the function, extract the name of the database from the connection URL (the URL is stored in `con.url`) and use an SQL query to retrieve the tables.\n",
    "</div> \n",
    "\n",
    "An exemplary function call (assuming you have connected to the `tweater` database as shown in the class exercises) should look like this:\n",
    "    \n",
    "```\n",
    "In [1]: dbListTables(con)\n",
    "Out[1]: ['comments', 'tweats', 'users']\n",
    "```"
   ]
  },
  {
   "cell_type": "code",
   "execution_count": 17,
   "id": "a3e778b2",
   "metadata": {},
   "outputs": [
    {
     "ename": "NameError",
     "evalue": "name 'con' is not defined",
     "output_type": "error",
     "traceback": [
      "\u001b[1;31m---------------------------------------------------------------------------\u001b[0m",
      "\u001b[1;31mNameError\u001b[0m                                 Traceback (most recent call last)",
      "\u001b[1;32m~\\AppData\\Local\\Temp\\ipykernel_17504\\3682127127.py\u001b[0m in \u001b[0;36m<module>\u001b[1;34m\u001b[0m\n\u001b[0;32m     43\u001b[0m \u001b[1;33m\u001b[0m\u001b[0m\n\u001b[0;32m     44\u001b[0m \u001b[1;31m# An example of the function:\u001b[0m\u001b[1;33m\u001b[0m\u001b[1;33m\u001b[0m\u001b[0m\n\u001b[1;32m---> 45\u001b[1;33m \u001b[0mprint\u001b[0m\u001b[1;33m(\u001b[0m\u001b[0mdbListTables\u001b[0m\u001b[1;33m(\u001b[0m\u001b[0mcon\u001b[0m\u001b[1;33m)\u001b[0m\u001b[1;33m)\u001b[0m\u001b[1;33m\u001b[0m\u001b[1;33m\u001b[0m\u001b[0m\n\u001b[0m",
      "\u001b[1;31mNameError\u001b[0m: name 'con' is not defined"
     ]
    }
   ],
   "source": [
    "# Preparations Part 2 \n",
    "\n",
    "# I use the Tweater data set as an example for the functions.\n",
    "# You can use any other MySQL data set for the two functions.\n",
    "# Since there this informations contains sensible information I will do the testing in another script so I do not have to\n",
    "# display the password for this MySQL server. You can access the server via the following code if you have the necessary\n",
    "# information:\n",
    "\n",
    "# sql_type, user, password = \"mysql+pymysql\", \"user\", \"password\"\n",
    "# host, database = \"host\", \"database\"\n",
    "# db_connection_str = f\"{sql_type}://{user}:{password}@{host}/{database}\"\n",
    "# con = create_engine(db_connection_str)\n",
    "\n",
    "\n",
    "# Create a function that gives you the table names of the MySQL file:\n",
    "\n",
    "def dbListTables(con):\n",
    "    \n",
    "    # Extract the database name\n",
    "    url = con.url\n",
    "    url_str = str(url)\n",
    "    split_url = re.split(pattern = \"/\", string = url_str)\n",
    "    database_name = split_url[-1]\n",
    "    \n",
    "    # Now the name of the database is stored in the variable database_name\n",
    "    # Now we can plug in the database name in a query\n",
    "    query = (f\"SELECT TABLE_NAME FROM information_schema.tables \" +\n",
    "             f\"WHERE TABLE_SCHEMA = '{database_name}'\")\n",
    "    \n",
    "    # Use the pd.read_sql function to get the tables of the data base\n",
    "    tables_np = pd.read_sql(query, con).values\n",
    "    \n",
    "    # Transfer the np arry into a list\n",
    "    tables = tables_np.tolist()\n",
    "    \n",
    "    # The Proble is that at the moment every table name is its own list\n",
    "    # Recode the names of the tables, which are lists, into strings\n",
    "    for i in range(0, len(tables)):\n",
    "        tables[i] = ''.join(tables[i])\n",
    "        \n",
    "    # Return the end result\n",
    "    return(tables)\n",
    "\n",
    "# An example of the function:\n",
    "print(dbListTables(con))\n",
    "\n",
    "# This code will work if you use a real connection, since this is a sensitive information I will not display these information\n",
    "# therefore I will not be able to connect to a real data base."
   ]
  },
  {
   "cell_type": "markdown",
   "id": "3ff68501",
   "metadata": {},
   "source": [
    "<div class=\"alert alert-block alert-info\">\n",
    "\n",
    "5. Create the function `dbListFields()`. The function should take a connection object (as created by {sqlalchemy}'s `create_engine` function) as well as the name of a table as input. The function should then return all fields (i.e., columns) that are part of the requested table as a *list of strings*. As in the previous exercise, extract the name of the database from the connection URL and use an SQL query to retrieve the fields.  \n",
    "</div>\n",
    "\n",
    "An exemplary function call (assuming you have connected to the `tweater` database as shown in the class exercises) should look like this:\n",
    "    \n",
    "```\n",
    "In [1]: dbListFields(con, 'comments')\n",
    "Out[1]: ['id', 'tweat_id', 'user_id', 'message']"
   ]
  },
  {
   "cell_type": "code",
   "execution_count": 18,
   "id": "3cb720eb",
   "metadata": {},
   "outputs": [
    {
     "ename": "NameError",
     "evalue": "name 'con' is not defined",
     "output_type": "error",
     "traceback": [
      "\u001b[1;31m---------------------------------------------------------------------------\u001b[0m",
      "\u001b[1;31mNameError\u001b[0m                                 Traceback (most recent call last)",
      "\u001b[1;32m~\\AppData\\Local\\Temp\\ipykernel_17504\\1796149514.py\u001b[0m in \u001b[0;36m<module>\u001b[1;34m\u001b[0m\n\u001b[0;32m     28\u001b[0m \u001b[1;33m\u001b[0m\u001b[0m\n\u001b[0;32m     29\u001b[0m \u001b[1;31m# Some examples of the function:\u001b[0m\u001b[1;33m\u001b[0m\u001b[1;33m\u001b[0m\u001b[0m\n\u001b[1;32m---> 30\u001b[1;33m \u001b[0mprint\u001b[0m\u001b[1;33m(\u001b[0m\u001b[0mdbListField\u001b[0m\u001b[1;33m(\u001b[0m\u001b[0mcon\u001b[0m\u001b[1;33m,\u001b[0m \u001b[1;34m\"tweats\"\u001b[0m\u001b[1;33m)\u001b[0m\u001b[1;33m)\u001b[0m\u001b[1;33m\u001b[0m\u001b[1;33m\u001b[0m\u001b[0m\n\u001b[0m\u001b[0;32m     31\u001b[0m \u001b[0mprint\u001b[0m\u001b[1;33m(\u001b[0m\u001b[0mdbListField\u001b[0m\u001b[1;33m(\u001b[0m\u001b[0mcon\u001b[0m\u001b[1;33m,\u001b[0m \u001b[1;34m\"users\"\u001b[0m\u001b[1;33m)\u001b[0m\u001b[1;33m)\u001b[0m\u001b[1;33m\u001b[0m\u001b[1;33m\u001b[0m\u001b[0m\n\u001b[0;32m     32\u001b[0m \u001b[0mprint\u001b[0m\u001b[1;33m(\u001b[0m\u001b[0mdbListField\u001b[0m\u001b[1;33m(\u001b[0m\u001b[0mcon\u001b[0m\u001b[1;33m,\u001b[0m \u001b[1;34m\"comments\"\u001b[0m\u001b[1;33m)\u001b[0m\u001b[1;33m)\u001b[0m\u001b[1;33m\u001b[0m\u001b[1;33m\u001b[0m\u001b[0m\n",
      "\u001b[1;31mNameError\u001b[0m: name 'con' is not defined"
     ]
    }
   ],
   "source": [
    "# Create a function that gives you the column names of a table in a MySQL file:\n",
    "def dbListField(con, table_name):\n",
    "    \n",
    "    # Extract the database name\n",
    "    url = con.url\n",
    "    url_str = str(url)\n",
    "    split_url = re.split(pattern = \"/\", string = url_str)\n",
    "    database_name = split_url[-1]\n",
    "\n",
    "    # Now the name of the database is stored in the variable database_name\n",
    "    # Now we can plug in the database name in a query\n",
    "    query = (f\"SELECT COLUMN_NAME FROM information_schema.columns \" +\n",
    "             f\"WHERE TABLE_SCHEMA = '{database_name}'\" +\n",
    "             f\"AND TABLE_NAME = '{table_name}'\")\n",
    "\n",
    "    # Use the pd.read_squl function to get the fields of the data base\n",
    "    fields_df = pd.read_sql(query, con)\n",
    "    \n",
    "    # Transfer the data frame into a list\n",
    "    fields = fields_df.values.tolist()\n",
    "    \n",
    "    # The Proble is that at the moment every field name is its own list\n",
    "    # Recode the names of the columns, which are lists, into strings\n",
    "    for i in range(0, len(fields)):\n",
    "        fields[i] = ''.join(fields[i])\n",
    "    \n",
    "    return(fields)    \n",
    "\n",
    "# Some examples of the function:\n",
    "print(dbListField(con, \"tweats\"))\n",
    "print(dbListField(con, \"users\"))\n",
    "print(dbListField(con, \"comments\"))\n",
    "\n",
    "# This is the same case as in the previous exercise. This function will give you the fields of the tables but since I can not \n",
    "# display private information you have to use your own connection to a SQL server to use this function."
   ]
  },
  {
   "cell_type": "markdown",
   "id": "899de502",
   "metadata": {},
   "source": [
    "---\n",
    "\n",
    "# SQLite Database Management – Soccer Data\n",
    "\n",
    "The SQLite database ``soccer.sqlite`` (located in ``soccer.zip``) contains information about over 24,000 soccer matches in different countries and leagues, the competing teams, and the players that appeared in the respective matches. The data is stored in a relational format and information can be joined as as displayed in the instructions PDF.\n",
    "\n",
    "Execute the following lines of code in order to establish a connection to the database:"
   ]
  },
  {
   "cell_type": "code",
   "execution_count": 19,
   "id": "ab06d892",
   "metadata": {},
   "outputs": [],
   "source": [
    "# (Install and) load relevant packages here:\n",
    "import sqlite3\n",
    "\n",
    "# Establish connection to the SQLite database \"soccer.sqlite\":\n",
    "sql_type, path = \"sqlite\", \"C:/Users/gross/OneDrive/Dokumente/soccer/soccer.sqlite\"\n",
    "db_connection_str = f\"{sql_type}:///{path}\"\n",
    "con = create_engine(db_connection_str)"
   ]
  },
  {
   "cell_type": "markdown",
   "id": "30750155",
   "metadata": {},
   "source": [
    "<div class=\"alert alert-block alert-info\">\n",
    "\n",
    "6. By performing adequate SQL queries, answer the following questions:</br>\n",
    "a) What are the team IDs of *FC Bayern Munich* and *Borussia Dortmund*?\n",
    "</div>"
   ]
  },
  {
   "cell_type": "code",
   "execution_count": 20,
   "id": "f753e0e6",
   "metadata": {},
   "outputs": [
    {
     "name": "stdout",
     "output_type": "stream",
     "text": [
      "Team id Bayer:\n",
      "     id\n",
      "0  9823\n",
      "Team id Dortmund:\n",
      "     id\n",
      "0  9789\n"
     ]
    }
   ],
   "source": [
    "team_id_Bayern = pd.read_sql(\"\"\"\n",
    "                    SELECT id\n",
    "                    FROM Team\n",
    "                    WHERE team_long_name = 'FC Bayern Munich'\n",
    "                    \"\"\", con)\n",
    "print(\"Team id Bayer:\")\n",
    "print(team_id_Bayern)\n",
    "\n",
    "team_id_Dortmund = pd.read_sql(\"\"\"\n",
    "                    SELECT id\n",
    "                    FROM Team\n",
    "                    WHERE team_long_name = 'Borussia Dortmund'\n",
    "                    \"\"\", con)\n",
    "print(\"Team id Dortmund:\")\n",
    "print(team_id_Dortmund)"
   ]
  },
  {
   "cell_type": "markdown",
   "id": "843a2621",
   "metadata": {},
   "source": [
    "<div class=\"alert alert-block alert-info\">\n",
    "b) What is the match ID of the match between *FC Bayern Munich* (home team) and *Borussia Dortmund* (away team) in the season of 2015/2016?\n",
    "</div>"
   ]
  },
  {
   "cell_type": "code",
   "execution_count": 21,
   "id": "6d8c461d",
   "metadata": {},
   "outputs": [
    {
     "name": "stdout",
     "output_type": "stream",
     "text": [
      "Match id Bayern vs. Dromund 2015/16 season:\n"
     ]
    },
    {
     "data": {
      "text/html": [
       "<div>\n",
       "<style scoped>\n",
       "    .dataframe tbody tr th:only-of-type {\n",
       "        vertical-align: middle;\n",
       "    }\n",
       "\n",
       "    .dataframe tbody tr th {\n",
       "        vertical-align: top;\n",
       "    }\n",
       "\n",
       "    .dataframe thead th {\n",
       "        text-align: right;\n",
       "    }\n",
       "</style>\n",
       "<table border=\"1\" class=\"dataframe\">\n",
       "  <thead>\n",
       "    <tr style=\"text-align: right;\">\n",
       "      <th></th>\n",
       "      <th>Match_id</th>\n",
       "    </tr>\n",
       "  </thead>\n",
       "  <tbody>\n",
       "    <tr>\n",
       "      <th>0</th>\n",
       "      <td>2002155</td>\n",
       "    </tr>\n",
       "  </tbody>\n",
       "</table>\n",
       "</div>"
      ],
      "text/plain": [
       "   Match_id\n",
       "0   2002155"
      ]
     },
     "execution_count": 21,
     "metadata": {},
     "output_type": "execute_result"
    }
   ],
   "source": [
    "match_id_FCB_BVB_15_16 = pd.read_sql(\"\"\"\n",
    "                   SELECT id AS Match_id\n",
    "                   FROM Match\n",
    "                   WHERE home_team_id = '9823'\n",
    "                   AND away_team_id = '9789'\n",
    "                   AND season = '2015/2016'\n",
    "                   \"\"\", con)\n",
    "print(\"Match id Bayern vs. Dromund 2015/16 season:\")\n",
    "match_id_FCB_BVB_15_16"
   ]
  },
  {
   "cell_type": "markdown",
   "id": "e04fa42b",
   "metadata": {},
   "source": [
    "<div class=\"alert alert-block alert-info\">\n",
    "c) When, i.e., on which date, did the match between *FC Bayern Munich* and *Borussia Dortmund* in the season 2015/2016 (``id`` identified in b) take place?\n",
    "</div>"
   ]
  },
  {
   "cell_type": "code",
   "execution_count": 22,
   "id": "f09e715a",
   "metadata": {},
   "outputs": [
    {
     "data": {
      "text/html": [
       "<div>\n",
       "<style scoped>\n",
       "    .dataframe tbody tr th:only-of-type {\n",
       "        vertical-align: middle;\n",
       "    }\n",
       "\n",
       "    .dataframe tbody tr th {\n",
       "        vertical-align: top;\n",
       "    }\n",
       "\n",
       "    .dataframe thead th {\n",
       "        text-align: right;\n",
       "    }\n",
       "</style>\n",
       "<table border=\"1\" class=\"dataframe\">\n",
       "  <thead>\n",
       "    <tr style=\"text-align: right;\">\n",
       "      <th></th>\n",
       "      <th>date</th>\n",
       "    </tr>\n",
       "  </thead>\n",
       "  <tbody>\n",
       "    <tr>\n",
       "      <th>0</th>\n",
       "      <td>2015-10-04 00:00:00</td>\n",
       "    </tr>\n",
       "  </tbody>\n",
       "</table>\n",
       "</div>"
      ],
      "text/plain": [
       "                  date\n",
       "0  2015-10-04 00:00:00"
      ]
     },
     "execution_count": 22,
     "metadata": {},
     "output_type": "execute_result"
    }
   ],
   "source": [
    "date_FCB_BVB_15_16 = pd.read_sql(\"\"\"\n",
    "                                 SELECT date\n",
    "                                 FROM Match\n",
    "                                 WHERE id = '2002155'\n",
    "                                 \"\"\", con)\n",
    "date_FCB_BVB_15_16"
   ]
  },
  {
   "cell_type": "markdown",
   "id": "4e5c82af",
   "metadata": {},
   "source": [
    "<div class=\"alert alert-block alert-info\">\n",
    "d) What were the names of the players who appeared in this match for *FC Bayern Munich* (i.e., the home team players)?\n",
    "</div>"
   ]
  },
  {
   "cell_type": "code",
   "execution_count": 23,
   "id": "965d1d5e",
   "metadata": {},
   "outputs": [
    {
     "data": {
      "text/html": [
       "<div>\n",
       "<style scoped>\n",
       "    .dataframe tbody tr th:only-of-type {\n",
       "        vertical-align: middle;\n",
       "    }\n",
       "\n",
       "    .dataframe tbody tr th {\n",
       "        vertical-align: top;\n",
       "    }\n",
       "\n",
       "    .dataframe thead th {\n",
       "        text-align: right;\n",
       "    }\n",
       "</style>\n",
       "<table border=\"1\" class=\"dataframe\">\n",
       "  <thead>\n",
       "    <tr style=\"text-align: right;\">\n",
       "      <th></th>\n",
       "      <th>player_name</th>\n",
       "    </tr>\n",
       "  </thead>\n",
       "  <tbody>\n",
       "    <tr>\n",
       "      <th>0</th>\n",
       "      <td>David Alaba</td>\n",
       "    </tr>\n",
       "    <tr>\n",
       "      <th>1</th>\n",
       "      <td>Douglas Costa</td>\n",
       "    </tr>\n",
       "    <tr>\n",
       "      <th>2</th>\n",
       "      <td>Javier Martinez</td>\n",
       "    </tr>\n",
       "    <tr>\n",
       "      <th>3</th>\n",
       "      <td>Jerome Boateng</td>\n",
       "    </tr>\n",
       "    <tr>\n",
       "      <th>4</th>\n",
       "      <td>Manuel Neuer</td>\n",
       "    </tr>\n",
       "    <tr>\n",
       "      <th>5</th>\n",
       "      <td>Mario Goetze</td>\n",
       "    </tr>\n",
       "    <tr>\n",
       "      <th>6</th>\n",
       "      <td>Philipp Lahm</td>\n",
       "    </tr>\n",
       "    <tr>\n",
       "      <th>7</th>\n",
       "      <td>Robert Lewandowski</td>\n",
       "    </tr>\n",
       "    <tr>\n",
       "      <th>8</th>\n",
       "      <td>Thiago Alcantara</td>\n",
       "    </tr>\n",
       "    <tr>\n",
       "      <th>9</th>\n",
       "      <td>Thomas Mueller</td>\n",
       "    </tr>\n",
       "    <tr>\n",
       "      <th>10</th>\n",
       "      <td>Xabi Alonso</td>\n",
       "    </tr>\n",
       "  </tbody>\n",
       "</table>\n",
       "</div>"
      ],
      "text/plain": [
       "           player_name\n",
       "0          David Alaba\n",
       "1        Douglas Costa\n",
       "2      Javier Martinez\n",
       "3       Jerome Boateng\n",
       "4         Manuel Neuer\n",
       "5         Mario Goetze\n",
       "6         Philipp Lahm\n",
       "7   Robert Lewandowski\n",
       "8     Thiago Alcantara\n",
       "9       Thomas Mueller\n",
       "10         Xabi Alonso"
      ]
     },
     "execution_count": 23,
     "metadata": {},
     "output_type": "execute_result"
    }
   ],
   "source": [
    "# First get the player ids of the players\n",
    "player_id_FCB = pd.read_sql(\"\"\"\n",
    "                         SELECT home_player_1, home_player_2, home_player_3,\n",
    "                         home_player_4, home_player_5, home_player_6, home_player_7,\n",
    "                         home_player_8, home_player_9, home_player_10, home_player_11\n",
    "                         FROM Match\n",
    "                         WHERE id = '2002155'\n",
    "                         \"\"\", con)\n",
    "player_id_FCB\n",
    "\n",
    "# Second use the player ids to get the names of the players\n",
    "player_FCB = pd.read_sql(\"\"\"\n",
    "                         SELECT player_name\n",
    "                         FROM Player\n",
    "                         WHERE id = '27299'\n",
    "                         OR id = '30894'\n",
    "                         OR id = '37410'\n",
    "                         OR id = '36183'\n",
    "                         OR id = '121633'\n",
    "                         OR id = '30889'\n",
    "                         OR id = '172949'\n",
    "                         OR id = '116772'\n",
    "                         OR id = '177714'\n",
    "                         OR id = '156726'\n",
    "                         OR id = '93447'\n",
    "                         \"\"\", con)\n",
    "player_FCB\n",
    "\n",
    "# A alternative approach is to use an INNER JOIN:\n",
    "player_names = pd.read_sql(\"\"\"\n",
    "                           SELECT player_name FROM Player\n",
    "                           INNER JOIN Match ON Player.id IN (Match.home_player_1,\n",
    "                           Match.home_player_2,\n",
    "                           Match.home_player_3,\n",
    "                           Match.home_player_4,\n",
    "                           Match.home_player_5,\n",
    "                           Match.home_player_6,\n",
    "                           Match.home_player_7,\n",
    "                           Match.home_player_8,\n",
    "                           Match.home_player_9,\n",
    "                           Match.home_player_10,\n",
    "                           Match.home_player_11)\n",
    "                           WHERE Match.id == '2002155'\n",
    "                           \"\"\", con)\n",
    "player_names"
   ]
  },
  {
   "cell_type": "markdown",
   "id": "8868b24c",
   "metadata": {},
   "source": [
    "<div class=\"alert alert-block alert-info\">\n",
    "e) What is the average ``height`` and ``weight`` of the players identified in d)?\n",
    "</div>"
   ]
  },
  {
   "cell_type": "code",
   "execution_count": 24,
   "id": "4a03128b",
   "metadata": {},
   "outputs": [
    {
     "data": {
      "text/html": [
       "<div>\n",
       "<style scoped>\n",
       "    .dataframe tbody tr th:only-of-type {\n",
       "        vertical-align: middle;\n",
       "    }\n",
       "\n",
       "    .dataframe tbody tr th {\n",
       "        vertical-align: top;\n",
       "    }\n",
       "\n",
       "    .dataframe thead th {\n",
       "        text-align: right;\n",
       "    }\n",
       "</style>\n",
       "<table border=\"1\" class=\"dataframe\">\n",
       "  <thead>\n",
       "    <tr style=\"text-align: right;\">\n",
       "      <th></th>\n",
       "      <th>AVG(height)</th>\n",
       "      <th>AVG(weight)</th>\n",
       "    </tr>\n",
       "  </thead>\n",
       "  <tbody>\n",
       "    <tr>\n",
       "      <th>0</th>\n",
       "      <td>182.187273</td>\n",
       "      <td>76.909091</td>\n",
       "    </tr>\n",
       "  </tbody>\n",
       "</table>\n",
       "</div>"
      ],
      "text/plain": [
       "   AVG(height)  AVG(weight)\n",
       "0   182.187273    76.909091"
      ]
     },
     "execution_count": 24,
     "metadata": {},
     "output_type": "execute_result"
    }
   ],
   "source": [
    "avg_heigth_weight = pd.read_sql(\"\"\"\n",
    "                         SELECT AVG(height), AVG(weight)\n",
    "                         FROM Player\n",
    "                         WHERE id = '27299'\n",
    "                         OR id = '30894'\n",
    "                         OR id = '37410'\n",
    "                         OR id = '36183'\n",
    "                         OR id = '121633'\n",
    "                         OR id = '30889'\n",
    "                         OR id = '172949'\n",
    "                         OR id = '116772'\n",
    "                         OR id = '177714'\n",
    "                         OR id = '156726'\n",
    "                         OR id = '93447'\n",
    "                         \"\"\", con)\n",
    "avg_heigth_weight\n",
    "\n",
    "# A alternative approach is to use an INNER JOIN:\n",
    "player_height_weight = pd.read_sql(\"\"\"\n",
    "                           SELECT AVG(height), AVG(weight)\n",
    "                           FROM Player\n",
    "                           INNER JOIN Match ON Player.id IN (Match.home_player_1,\n",
    "                           Match.home_player_2,\n",
    "                           Match.home_player_3,\n",
    "                           Match.home_player_4,\n",
    "                           Match.home_player_5,\n",
    "                           Match.home_player_6,\n",
    "                           Match.home_player_7,\n",
    "                           Match.home_player_8,\n",
    "                           Match.home_player_9,\n",
    "                           Match.home_player_10,\n",
    "                           Match.home_player_11)\n",
    "                           WHERE Match.id == '2002155'\n",
    "                           \"\"\", con)\n",
    "player_height_weight"
   ]
  },
  {
   "cell_type": "markdown",
   "id": "daa8fcd5",
   "metadata": {},
   "source": [
    "<div class=\"alert alert-block alert-info\">\n",
    "f) How many different leagues (``league_id``) are represented in the table ``Match``?\n",
    "</div>"
   ]
  },
  {
   "cell_type": "code",
   "execution_count": 25,
   "id": "ab91a462",
   "metadata": {},
   "outputs": [
    {
     "data": {
      "text/html": [
       "<div>\n",
       "<style scoped>\n",
       "    .dataframe tbody tr th:only-of-type {\n",
       "        vertical-align: middle;\n",
       "    }\n",
       "\n",
       "    .dataframe tbody tr th {\n",
       "        vertical-align: top;\n",
       "    }\n",
       "\n",
       "    .dataframe thead th {\n",
       "        text-align: right;\n",
       "    }\n",
       "</style>\n",
       "<table border=\"1\" class=\"dataframe\">\n",
       "  <thead>\n",
       "    <tr style=\"text-align: right;\">\n",
       "      <th></th>\n",
       "      <th>Number_of_different_leagues</th>\n",
       "    </tr>\n",
       "  </thead>\n",
       "  <tbody>\n",
       "    <tr>\n",
       "      <th>0</th>\n",
       "      <td>10</td>\n",
       "    </tr>\n",
       "  </tbody>\n",
       "</table>\n",
       "</div>"
      ],
      "text/plain": [
       "   Number_of_different_leagues\n",
       "0                           10"
      ]
     },
     "execution_count": 25,
     "metadata": {},
     "output_type": "execute_result"
    }
   ],
   "source": [
    "unique_leagues = pd.read_sql(\"\"\"\n",
    "                             SELECT COUNT(DISTINCT league_id) AS\n",
    "                             Number_of_different_leagues\n",
    "                             FROM Match\n",
    "                             \"\"\", con)\n",
    "unique_leagues"
   ]
  }
 ],
 "metadata": {
  "kernelspec": {
   "display_name": "Python 3 (ipykernel)",
   "language": "python",
   "name": "python3"
  },
  "language_info": {
   "codemirror_mode": {
    "name": "ipython",
    "version": 3
   },
   "file_extension": ".py",
   "mimetype": "text/x-python",
   "name": "python",
   "nbconvert_exporter": "python",
   "pygments_lexer": "ipython3",
   "version": "3.9.13"
  }
 },
 "nbformat": 4,
 "nbformat_minor": 5
}
