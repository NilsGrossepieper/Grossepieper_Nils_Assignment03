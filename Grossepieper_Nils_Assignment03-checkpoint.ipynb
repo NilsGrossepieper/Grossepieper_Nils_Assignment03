{
 "cells": [
  {
   "cell_type": "markdown",
   "id": "4b275fd1",
   "metadata": {},
   "source": [
    "\n",
    "---\n",
    "\n",
    "### Repeated operations\n",
    "\n",
    "\n",
    "<div class=\"alert alert-block alert-info\">\n",
    "    \n",
    "1. Create two vectors called ``vec1`` and ``vec2`` that each contain 50,000 random draws from the integer numbers between 1 and 100. Make sure the \"random\" operation produces the same results when the code is re-evaluated.\n",
    "</div>"
   ]
  },
  {
   "cell_type": "code",
   "execution_count": 1,
   "id": "a274ab0b",
   "metadata": {},
   "outputs": [],
   "source": [
    "# Load all important packages for this assignment:\n",
    "import pandas as pd\n",
    "import numpy as np\n",
    "import time"
   ]
  },
  {
   "cell_type": "code",
   "execution_count": 2,
   "id": "c102833a",
   "metadata": {},
   "outputs": [
    {
     "name": "stdout",
     "output_type": "stream",
     "text": [
      "[67 93 99 18 84 58 87 98 97]\n",
      "[87 40 51 78 16 52 74 78 40]\n"
     ]
    }
   ],
   "source": [
    "# I use set.seed() to produce the same results when we rerun the code:\n",
    "np.random.seed(123)\n",
    "\n",
    "# Now I create two vectors with each containing of 50,000 random integers from\n",
    "# a range between 1 and 100\n",
    "vec1 = np.random.randint(1,100, size = 50000)\n",
    "vec2 = np.random.randint(1,100, size = 50000)\n",
    "\n",
    "# The vectors look like this:\n",
    "print(vec1[0:9])\n",
    "print(vec2[0:9])"
   ]
  },
  {
   "cell_type": "markdown",
   "id": "0e42ba4a",
   "metadata": {},
   "source": [
    "Consider the following ``for`` loop in R that subtracts the values of ``vec1`` and ``vec2`` from each other element-wise, squares the differences, and then takes the square root. The results are stored in the vector ``absoluteDifferences``.\n",
    "\n",
    "```{r}\n",
    "# Initiate empty object to store maximum values per row:\n",
    "absoluteDifferences <- NULL\n",
    "\n",
    "# Iterate through rows, find absolute difference, and append the value to the \n",
    "# object 'absoluteDifferences':\n",
    "for (i in 1:length(vec1)){\n",
    "  absoluteDifferences <- c(absoluteDifferences, sqrt((vec1[i] - vec2[i])^2))\n",
    "}\n",
    "```\n",
    "\n",
    "This operation is not coded efficiently regarding several aspects.\n",
    "\n",
    "\n",
    "<div class=\"alert alert-block alert-info\">\n",
    "    \n",
    "3. Try and find one solution in Python that speeds up the operation. Explain the intuition behind this solution and why it leads to an efficiency gain. Track speed and compare with your timings from task 2 in R!\n",
    "</div>"
   ]
  },
  {
   "cell_type": "code",
   "execution_count": null,
   "id": "98620ce6",
   "metadata": {},
   "outputs": [],
   "source": []
  }
 ],
 "metadata": {
  "kernelspec": {
   "display_name": "Python 3 (ipykernel)",
   "language": "python",
   "name": "python3"
  },
  "language_info": {
   "codemirror_mode": {
    "name": "ipython",
    "version": 3
   },
   "file_extension": ".py",
   "mimetype": "text/x-python",
   "name": "python",
   "nbconvert_exporter": "python",
   "pygments_lexer": "ipython3",
   "version": "3.9.13"
  }
 },
 "nbformat": 4,
 "nbformat_minor": 5
}
